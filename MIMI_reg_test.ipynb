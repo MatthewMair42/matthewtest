{
  "nbformat": 4,
  "nbformat_minor": 0,
  "metadata": {
    "colab": {
      "provenance": [],
      "authorship_tag": "ABX9TyNso2oXx48ktNyirzCcD44P",
      "include_colab_link": true
    },
    "kernelspec": {
      "name": "python3",
      "display_name": "Python 3"
    },
    "language_info": {
      "name": "python"
    }
  },
  "cells": [
    {
      "cell_type": "markdown",
      "metadata": {
        "id": "view-in-github",
        "colab_type": "text"
      },
      "source": [
        "<a href=\"https://colab.research.google.com/github/MatthewMair42/matthewtest/blob/main/MIMI_reg_test.ipynb\" target=\"_parent\"><img src=\"https://colab.research.google.com/assets/colab-badge.svg\" alt=\"Open In Colab\"/></a>"
      ]
    },
    {
      "cell_type": "markdown",
      "source": [
        "# MIMI Regression Test"
      ],
      "metadata": {
        "id": "vErG6Mdm8AWk"
      }
    },
    {
      "cell_type": "markdown",
      "source": [
        "Read in the data"
      ],
      "metadata": {
        "id": "kUiISLQU-XtS"
      }
    },
    {
      "source": [
        "import pandas as pd\n",
        "\n",
        "# Read the CSV file into a DataFrame\n",
        "data = pd.read_csv('/content/mimili_added.csv')\n",
        "\n",
        "# Now you can work with the data in the 'data' DataFrame\n",
        "# For example, to display the first 5 rows:\n",
        "print(data.head())"
      ],
      "cell_type": "code",
      "metadata": {
        "colab": {
          "base_uri": "https://localhost:8080/"
        },
        "id": "zgMFKgld9zAn",
        "outputId": "46c932c6-fdee-43ef-cf0d-5b605541ed62"
      },
      "execution_count": 6,
      "outputs": [
        {
          "output_type": "stream",
          "name": "stderr",
          "text": [
            "<ipython-input-6-1c454b3bb71f>:4: DtypeWarning: Columns (62,68,70,71,80,86,88,89) have mixed types. Specify dtype option on import or set low_memory=False.\n",
            "  data = pd.read_csv('/content/mimili_added.csv')\n"
          ]
        },
        {
          "output_type": "stream",
          "name": "stdout",
          "text": [
            "  origin_country destination_country  year  ESTAT_T_T_cit  ESTAT_T_15.64_cit  \\\n",
            "0             AD                  AR  2000            NaN                NaN   \n",
            "1             AD                  AR  2001            NaN                NaN   \n",
            "2             AD                  AR  2002            NaN                NaN   \n",
            "3             AD                  AR  2003            NaN                NaN   \n",
            "4             AD                  AR  2004            NaN                NaN   \n",
            "\n",
            "   ESTAT_M_T_cit  ESTAT_M_15.64_cit  ESTAT_F_T_cit  ESTAT_F_15.64_cit  \\\n",
            "0            NaN                NaN            NaN                NaN   \n",
            "1            NaN                NaN            NaN                NaN   \n",
            "2            NaN                NaN            NaN                NaN   \n",
            "3            NaN                NaN            NaN                NaN   \n",
            "4            NaN                NaN            NaN                NaN   \n",
            "\n",
            "   ESTAT_T_.15_cit  ...  year_2016  year_2017  year_2018  year_2019  \\\n",
            "0              NaN  ...          0          0          0          0   \n",
            "1              NaN  ...          0          0          0          0   \n",
            "2              NaN  ...          0          0          0          0   \n",
            "3              NaN  ...          0          0          0          0   \n",
            "4              NaN  ...          0          0          0          0   \n",
            "\n",
            "   year_2020  year_2021  year_2022  common_language  common_religion  \\\n",
            "0          0          0          0                1                1   \n",
            "1          0          0          0                1                1   \n",
            "2          0          0          0                1                1   \n",
            "3          0          0          0                1                1   \n",
            "4          0          0          0                1                1   \n",
            "\n",
            "   combined_T_T_res  \n",
            "0               NaN  \n",
            "1               NaN  \n",
            "2               NaN  \n",
            "3               NaN  \n",
            "4               NaN  \n",
            "\n",
            "[5 rows x 127 columns]\n"
          ]
        }
      ]
    },
    {
      "cell_type": "code",
      "source": [
        "# Define the regression formula\n",
        "\n",
        "formula = \"combined_T_T_res ~ UN_origin_pop + UN_destination_pop + origin_gdp + destination_gdp + ESTAT_origin_pop_dens + ESTAT_destination_pop_dens + dest_migr_stocks_T + origin_migr_stocks_T + net_migration_origin + net_migration_dest + origin_UAI + geodesic_distance_km + common_language + common_religion\"\n",
        "\n",
        "# Fit the regression model\n",
        "try:\n",
        "    model = smf.ols(formula, data=data).fit()\n",
        "\n",
        "    # Print the regression results\n",
        "    print(model.summary())\n",
        "except KeyError as e:\n",
        "    print(f\"Error: Missing column in the data: {e}\")\n",
        "    print(\"Please ensure your data file contains the required columns: 'combined_T_T_res', 'origin_gdp', 'origin_pop', 'common_lanugage', and 'common_religion'.\")\n",
        "except Exception as e:  # Catch other potential errors during model fitting\n",
        "  print(f\"An unexpected error occurred during regression: {e}\")"
      ],
      "metadata": {
        "colab": {
          "base_uri": "https://localhost:8080/"
        },
        "id": "wHcLt46Y97ay",
        "outputId": "a3e331c1-0a53-4df0-9c00-955f6c3b5d01"
      },
      "execution_count": 21,
      "outputs": [
        {
          "output_type": "stream",
          "name": "stdout",
          "text": [
            "                            OLS Regression Results                            \n",
            "==============================================================================\n",
            "Dep. Variable:       combined_T_T_res   R-squared:                       0.592\n",
            "Model:                            OLS   Adj. R-squared:                  0.591\n",
            "Method:                 Least Squares   F-statistic:                     605.9\n",
            "Date:                Wed, 16 Apr 2025   Prob (F-statistic):               0.00\n",
            "Time:                        19:12:56   Log-Likelihood:                -56485.\n",
            "No. Observations:                5861   AIC:                         1.130e+05\n",
            "Df Residuals:                    5846   BIC:                         1.131e+05\n",
            "Df Model:                          14                                         \n",
            "Covariance Type:            nonrobust                                         \n",
            "==============================================================================================\n",
            "                                 coef    std err          t      P>|t|      [0.025      0.975]\n",
            "----------------------------------------------------------------------------------------------\n",
            "Intercept                  -1417.8115    388.042     -3.654      0.000   -2178.517    -657.106\n",
            "UN_origin_pop                2.19e-05   2.59e-06      8.456      0.000    1.68e-05     2.7e-05\n",
            "UN_destination_pop          2.042e-05   2.99e-06      6.837      0.000    1.46e-05    2.63e-05\n",
            "origin_gdp                    -0.0173      0.005     -3.416      0.001      -0.027      -0.007\n",
            "destination_gdp                0.0147      0.003      4.679      0.000       0.009       0.021\n",
            "ESTAT_origin_pop_dens          1.0421      0.417      2.500      0.012       0.225       1.859\n",
            "ESTAT_destination_pop_dens     0.5111      0.241      2.118      0.034       0.038       0.984\n",
            "dest_migr_stocks_T             0.0380      0.001     43.589      0.000       0.036       0.040\n",
            "origin_migr_stocks_T           0.0267      0.001     42.336      0.000       0.025       0.028\n",
            "net_migration_origin          -0.0030      0.000     -7.201      0.000      -0.004      -0.002\n",
            "net_migration_dest             0.0009      0.001      1.755      0.079      -0.000       0.002\n",
            "origin_UAI                    -4.2830      2.456     -1.744      0.081      -9.097       0.531\n",
            "geodesic_distance_km           0.1796      0.079      2.287      0.022       0.026       0.334\n",
            "common_language              541.5637    122.559      4.419      0.000     301.303     781.825\n",
            "common_religion             1369.0275    147.613      9.274      0.000    1079.651    1658.404\n",
            "==============================================================================\n",
            "Omnibus:                     7745.351   Durbin-Watson:                   0.758\n",
            "Prob(Omnibus):                  0.000   Jarque-Bera (JB):          5082630.021\n",
            "Skew:                           6.949   Prob(JB):                         0.00\n",
            "Kurtosis:                     146.595   Cond. No.                     3.25e+08\n",
            "==============================================================================\n",
            "\n",
            "Notes:\n",
            "[1] Standard Errors assume that the covariance matrix of the errors is correctly specified.\n",
            "[2] The condition number is large, 3.25e+08. This might indicate that there are\n",
            "strong multicollinearity or other numerical problems.\n"
          ]
        }
      ]
    }
  ]
}