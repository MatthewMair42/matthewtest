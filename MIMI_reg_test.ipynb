{
  "nbformat": 4,
  "nbformat_minor": 0,
  "metadata": {
    "colab": {
      "provenance": [],
      "authorship_tag": "ABX9TyOPG+YgOI6pq5HsG6EsDROZ",
      "include_colab_link": true
    },
    "kernelspec": {
      "name": "python3",
      "display_name": "Python 3"
    },
    "language_info": {
      "name": "python"
    }
  },
  "cells": [
    {
      "cell_type": "markdown",
      "metadata": {
        "id": "view-in-github",
        "colab_type": "text"
      },
      "source": [
        "<a href=\"https://colab.research.google.com/github/MatthewMair42/matthewtest/blob/main/MIMI_reg_test.ipynb\" target=\"_parent\"><img src=\"https://colab.research.google.com/assets/colab-badge.svg\" alt=\"Open In Colab\"/></a>"
      ]
    },
    {
      "cell_type": "markdown",
      "source": [
        "# MIMI Regression Test"
      ],
      "metadata": {
        "id": "vErG6Mdm8AWk"
      }
    },
    {
      "cell_type": "markdown",
      "source": [
        "Read in the data"
      ],
      "metadata": {
        "id": "kUiISLQU-XtS"
      }
    },
    {
      "source": [
        "import pandas as pd\n",
        "\n",
        "# Specify the correct data types for the problematic columns\n",
        "data = pd.read_csv('/content/mimili_added.csv', dtype={'61': str, '67': str, '69': str, '70': str, '79': str, '85': str, '87': str, '88': str})\n",
        "\n",
        "data.shape"
      ],
      "cell_type": "code",
      "metadata": {
        "colab": {
          "base_uri": "https://localhost:8080/"
        },
        "id": "x2A6ubmfFcWv",
        "outputId": "0237cee3-03a9-4ae8-d21e-b21e3694fe96"
      },
      "execution_count": 9,
      "outputs": [
        {
          "output_type": "stream",
          "name": "stderr",
          "text": [
            "<ipython-input-9-9cbc42ce9250>:4: DtypeWarning: Columns (61,67,69,70,79,85,87,88) have mixed types. Specify dtype option on import or set low_memory=False.\n",
            "  data = pd.read_csv('/content/mimili_added.csv', dtype={'61': str, '67': str, '69': str, '70': str, '79': str, '85': str, '87': str, '88': str})\n"
          ]
        },
        {
          "output_type": "execute_result",
          "data": {
            "text/plain": [
              "(662883, 134)"
            ]
          },
          "metadata": {},
          "execution_count": 9
        }
      ]
    },
    {
      "cell_type": "code",
      "source": [
        "import statsmodels.formula.api as smf\n",
        "\n",
        "# Define the regression formula\n",
        "\n",
        "formula = \"combined_T_T_res ~ UN_origin_pop + UN_destination_pop + origin_gdp + destination_gdp + ESTAT_origin_pop_dens + ESTAT_destination_pop_dens + dest_migr_stocks_T + origin_migr_stocks_T + net_migration_origin + net_migration_dest + geodesic_distance_km + common_language + common_religion + PDIdiff\"\n",
        "\n",
        "# Fit the regression model\n",
        "try:\n",
        "    model = smf.ols(formula, data=data).fit()\n",
        "\n",
        "    # Print the regression results\n",
        "    print(model.summary())\n",
        "except KeyError as e:\n",
        "    print(f\"Error: Missing column in the data: {e}\")\n",
        "    print(\"Please ensure your data file contains the required columns: 'combined_T_T_res', 'origin_gdp', 'origin_pop', 'common_lanugage', and 'common_religion'.\")\n",
        "except Exception as e:  # Catch other potential errors during model fitting\n",
        "  print(f\"An unexpected error occurred during regression: {e}\")"
      ],
      "metadata": {
        "colab": {
          "base_uri": "https://localhost:8080/"
        },
        "id": "wHcLt46Y97ay",
        "outputId": "64b70248-9aac-4fc8-89dd-f22ef2ccb248"
      },
      "execution_count": 15,
      "outputs": [
        {
          "output_type": "stream",
          "name": "stdout",
          "text": [
            "                            OLS Regression Results                            \n",
            "==============================================================================\n",
            "Dep. Variable:       combined_T_T_res   R-squared:                       0.619\n",
            "Model:                            OLS   Adj. R-squared:                  0.617\n",
            "Method:                 Least Squares   F-statistic:                     394.1\n",
            "Date:                Thu, 17 Apr 2025   Prob (F-statistic):               0.00\n",
            "Time:                        19:06:31   Log-Likelihood:                -33251.\n",
            "No. Observations:                3416   AIC:                         6.653e+04\n",
            "Df Residuals:                    3401   BIC:                         6.662e+04\n",
            "Df Model:                          14                                         \n",
            "Covariance Type:            nonrobust                                         \n",
            "==============================================================================================\n",
            "                                 coef    std err          t      P>|t|      [0.025      0.975]\n",
            "----------------------------------------------------------------------------------------------\n",
            "Intercept                  -3109.2047    608.310     -5.111      0.000   -4301.896   -1916.514\n",
            "UN_origin_pop                3.57e-05   3.86e-06      9.243      0.000    2.81e-05    4.33e-05\n",
            "UN_destination_pop          1.765e-05   3.89e-06      4.532      0.000       1e-05    2.53e-05\n",
            "origin_gdp                    -0.0176      0.006     -2.717      0.007      -0.030      -0.005\n",
            "destination_gdp                0.0157      0.007      2.397      0.017       0.003       0.028\n",
            "ESTAT_origin_pop_dens          1.8882      0.608      3.104      0.002       0.696       3.081\n",
            "ESTAT_destination_pop_dens     3.0765      0.590      5.210      0.000       1.919       4.234\n",
            "dest_migr_stocks_T             0.0354      0.001     34.660      0.000       0.033       0.037\n",
            "origin_migr_stocks_T           0.0266      0.001     25.903      0.000       0.025       0.029\n",
            "net_migration_origin          -0.0036      0.001     -5.985      0.000      -0.005      -0.002\n",
            "net_migration_dest             0.0012      0.001      2.024      0.043    3.82e-05       0.002\n",
            "geodesic_distance_km           0.1220      0.140      0.868      0.385      -0.153       0.397\n",
            "common_language             1121.3218    174.077      6.442      0.000     780.016    1462.628\n",
            "common_religion             1899.4415    226.238      8.396      0.000    1455.866    2343.017\n",
            "PDIdiff                      107.5545     48.627      2.212      0.027      12.213     202.896\n",
            "==============================================================================\n",
            "Omnibus:                     4584.783   Durbin-Watson:                   0.960\n",
            "Prob(Omnibus):                  0.000   Jarque-Bera (JB):          3070652.882\n",
            "Skew:                           7.083   Prob(JB):                         0.00\n",
            "Kurtosis:                     149.195   Cond. No.                     3.98e+08\n",
            "==============================================================================\n",
            "\n",
            "Notes:\n",
            "[1] Standard Errors assume that the covariance matrix of the errors is correctly specified.\n",
            "[2] The condition number is large, 3.98e+08. This might indicate that there are\n",
            "strong multicollinearity or other numerical problems.\n"
          ]
        }
      ]
    }
  ]
}